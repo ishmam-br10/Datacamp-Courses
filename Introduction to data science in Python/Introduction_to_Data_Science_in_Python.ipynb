{
  "nbformat": 4,
  "nbformat_minor": 0,
  "metadata": {
    "colab": {
      "provenance": []
    },
    "kernelspec": {
      "name": "python3",
      "display_name": "Python 3"
    },
    "language_info": {
      "name": "python"
    }
  },
  "cells": [
    {
      "cell_type": "markdown",
      "source": [
        "Importing Python modules\n",
        "Modules (sometimes called packages or libraries) help group together related sets of tools in Python. In this exercise, we'll examine two modules that are frequently used by Data Scientists:\n",
        "\n",
        "statsmodels: used in machine learning; usually aliased as sm\n",
        "seaborn: a visualization library; usually aliased as sns\n",
        "Note that each module has a standard alias, which allows you to access the tools inside of the module without typing as many characters. For example, aliasing lets us shorten seaborn.scatterplot() to sns.scatterplot()."
      ],
      "metadata": {
        "id": "VE-KwdVnwAXx"
      }
    },
    {
      "cell_type": "code",
      "execution_count": null,
      "metadata": {
        "id": "J5_KAyIzv5r5"
      },
      "outputs": [],
      "source": [
        "# Use an import statement to import seaborn with alias sns\n",
        "import seaborn as sns\n"
      ]
    },
    {
      "cell_type": "markdown",
      "source": [
        "Correcting a broken import\n",
        "In this exercise, we'll learn to import numpy, a module for performing mathematical operations on lists of data. The standard alias for numpy is np.\n",
        "\n"
      ],
      "metadata": {
        "id": "tHxLzJsbwpXj"
      }
    },
    {
      "cell_type": "code",
      "source": [
        "# Fix the import of numpy to run without errors\n",
        "import numpy as np"
      ],
      "metadata": {
        "id": "I41ZeroQww0-"
      },
      "execution_count": null,
      "outputs": []
    },
    {
      "cell_type": "markdown",
      "source": [
        "Creating a float\n",
        "Before we start looking for Bayes' kidnapper, we need to fill out a Missing Puppy Report with details of the case. Each piece of information will be stored as a variable.\n",
        "\n",
        "We define a variable using an equals sign (=). For instance, we would define the variable height:\n",
        "\n",
        "height = 24\n",
        "In this exercise, we'll be defining bayes_age to be 4.0 months old. The data type for this variable will be float, meaning that it is a number."
      ],
      "metadata": {
        "id": "I9NOxORSwy25"
      }
    },
    {
      "cell_type": "code",
      "source": [
        "# Fill in Bayes' age (4.0)\n",
        "bayes_age = 4.0\n",
        "\n",
        "# Display the variable bayes_age\n",
        "print(bayes_age)"
      ],
      "metadata": {
        "id": "bOUxxzR_w4la"
      },
      "execution_count": null,
      "outputs": []
    },
    {
      "cell_type": "markdown",
      "source": [
        "Creating strings\n",
        "Let's continue to fill out the Missing Puppy Report for Bayes. In the previous exercise, we defined bayes_age, which was a float, which represents a number.\n",
        "\n",
        "In this exercise, we'll define favorite_toy and owner, which will both be strings. A string represents text. A string is surrounded by quotation marks (' or \") and can contain letters, numbers, and special characters. It doesn't matter if you use single (') or double (\") quotes, but it's important to be consistent throughout your code."
      ],
      "metadata": {
        "id": "BD7tWAsmw7Bc"
      }
    },
    {
      "cell_type": "code",
      "source": [
        "# Bayes' favorite toy\n",
        "favorite_toy = \"Mr. Squeaky\"\n",
        "\n",
        "# Bayes' owner\n",
        "owner = 'DataCamp'\n",
        "\n",
        "# Display variables\n",
        "print(favorite_toy)\n",
        "print(owner)"
      ],
      "metadata": {
        "id": "g9pTYMUGw-Kp"
      },
      "execution_count": null,
      "outputs": []
    },
    {
      "cell_type": "markdown",
      "source": [
        "Correcting string errors\n",
        "It's easy to make errors when you're trying to type strings quickly.\n",
        "\n",
        "Don't forget to use quotes! Without quotes, you'll get a name error.\n",
        "owner = DataCamp\n",
        "Use the same type of quotation mark. If you start with a single quote, and end with a double quote, you'll get a syntax error.\n",
        "fur_color = \"blonde'\n",
        "Someone at the police station made an error when filling out the final lines of Bayes' Missing Puppy Report. In this exercise, you will correct the errors."
      ],
      "metadata": {
        "id": "61f52pgbxBsN"
      }
    },
    {
      "cell_type": "code",
      "source": [
        "# One or more of the following lines contains an error\n",
        "# Correct it so that it runs without producing syntax errors\n",
        "birthday = \"2017-07-14\"\n",
        "case_id = 'DATACAMP!123-456?'"
      ],
      "metadata": {
        "id": "XyOQCZ_1xC8x"
      },
      "execution_count": null,
      "outputs": []
    },
    {
      "cell_type": "markdown",
      "source": [
        "Load a DataFrame\n",
        "A ransom note was left at the scene of Bayes' kidnapping. Eventually, we'll want to analyze the frequency with which each letter occurs in the note, to help us identify the kidnapper. For now, we just need to load the data from ransom.csv into Python.\n",
        "\n",
        "We'll load the data into a DataFrame, a special data type from the pandas module. It represents spreadsheet-like data (something with rows and columns).\n",
        "We can create a DataFrame from a CSV (comma-separated value) file by using the function pd.read_csv()."
      ],
      "metadata": {
        "id": "Sr6N4g-1xE-2"
      }
    },
    {
      "cell_type": "code",
      "source": [
        "# Import pandas\n",
        "import pandas as pd\n",
        "\n",
        "# Load the 'ransom.csv' into a DataFrame\n",
        "r = pd.read_csv('ransom.csv')\n",
        "\n",
        "# Display DataFrame\n",
        "print(r)"
      ],
      "metadata": {
        "id": "atjRmzF3xMLn"
      },
      "execution_count": null,
      "outputs": []
    },
    {
      "cell_type": "markdown",
      "source": [
        "Correcting a function error\n",
        "The code in the script editor should plot information from the DataFrame that we loaded in the previous exercise.\n",
        "\n",
        "However, there is an error in function syntax. Remember that common function errors include:\n",
        "\n",
        "Forgetting closing parenthesis\n",
        "Forgetting commas between each argument\n",
        "Note that all arguments to the functions are correct. The problem is in the function syntax."
      ],
      "metadata": {
        "id": "l8vB3SSwxN-P"
      }
    },
    {
      "cell_type": "code",
      "source": [
        "# One or more of the following lines contains an error\n",
        "# Correct it so that it runs without producing syntax errors\n",
        "\n",
        "# Plot a graph\n",
        "plt.plot(x_values, y_values)\n",
        "\n",
        "# Display the graph\n",
        "plt.show()"
      ],
      "metadata": {
        "id": "BwuRQ9PbxXSw"
      },
      "execution_count": null,
      "outputs": []
    },
    {
      "cell_type": "markdown",
      "source": [
        "Snooping for suspects\n",
        "We need to narrow down the list of suspects for the kidnapping of Bayes. Once we have a list of suspects, we'll ask them for writing samples and compare them to the ransom note.\n",
        "\n",
        "A witness to the crime noticed a green truck leaving the scene of the crime whose license plate began with 'FRQ'. We'll use this information to search for some suspects.\n",
        "\n",
        "As a detective, you have access to a special function called lookup_plate.\n",
        "\n",
        "lookup_plate accepts one positional argument: A string representing a license plate."
      ],
      "metadata": {
        "id": "P6mfDcglxdoj"
      }
    },
    {
      "cell_type": "code",
      "source": [
        "# Define plate to represent a plate beginning with FRQ\n",
        "# Use * to represent the missing four letters\n",
        "plate = \"FRQ****\"\n",
        "lookup_plate(plate)"
      ],
      "metadata": {
        "id": "OPnvtuBuxfVC"
      },
      "execution_count": null,
      "outputs": []
    },
    {
      "cell_type": "markdown",
      "source": [
        "Loading a DataFrame\n",
        "We're still working hard to solve the kidnapping of Bayes, the Golden Retriever. Previously, we used a license plate spotted at the crime scene to narrow the list of suspects to:\n",
        "\n",
        "Fred Frequentist\n",
        "Ronald Aylmer Fisher\n",
        "Gertrude Cox\n",
        "Kirstine Smith\n",
        "We've obtained credit card records for all four suspects. Perhaps some of them made suspicious purchases before the kidnapping?\n",
        "\n",
        "The records are in a CSV called \"credit_records.csv\"."
      ],
      "metadata": {
        "id": "fziTrGFXxl6D"
      }
    },
    {
      "cell_type": "code",
      "source": [
        "# Import pandas under the alias pd\n",
        "import pandas as pd\n",
        "\n",
        "# Load the CSV \"credit_records.csv\"\n",
        "credit_records = pd.read_csv(\"credit_records.csv\")\n",
        "\n",
        "# Display the first five rows of credit_records using the .head() method\n",
        "print(credit_records.head())"
      ],
      "metadata": {
        "id": "l9uEY5mLxm40"
      },
      "execution_count": null,
      "outputs": []
    },
    {
      "cell_type": "markdown",
      "source": [
        "Inspecting a DataFrame\n",
        "We've loaded the credit card records of our four suspects into a DataFrame called credit_records. Let's learn more about the structure of this DataFrame.\n",
        "\n",
        "The pandas module has been imported under the alias pd. The DataFrame credit_records has already been imported.\n",
        "\n",
        "How many rows are in credit_records?"
      ],
      "metadata": {
        "id": "bhHFxO_7xol5"
      }
    },
    {
      "cell_type": "code",
      "source": [
        "# Use .info() to inspect the DataFrame credit_records\n",
        "print(credit_records.info())"
      ],
      "metadata": {
        "id": "Ls0CcHPFxsge"
      },
      "execution_count": null,
      "outputs": []
    },
    {
      "cell_type": "markdown",
      "source": [
        "Two methods for selecting columns\n",
        "Once again, we've loaded the credit card records of our four suspects into a DataFrame called credit_records. Let's examine the items that they've purchased.\n",
        "\n",
        "The pandas module has been imported under the alias pd. The DataFrame credit_records has already been imported."
      ],
      "metadata": {
        "id": "VLp-VokmxuS3"
      }
    },
    {
      "cell_type": "code",
      "source": [
        "# Select the column item from credit_records\n",
        "# Use brackets and string notation\n",
        "items = credit_records[\"item\"]\n",
        "\n",
        "# Display the results\n",
        "print(items)"
      ],
      "metadata": {
        "id": "xMXjQyaLxxcs"
      },
      "execution_count": null,
      "outputs": []
    },
    {
      "cell_type": "markdown",
      "source": [
        "Correcting column selection errors\n",
        "A junior detective tried to access the location columns of credit_records, but he made some mistakes. Help correct his code so that we can search for suspicious purchases.\n",
        "\n",
        "In all exercises going forward, pandas will be imported as pd. The DataFrame credit_records has already been imported."
      ],
      "metadata": {
        "id": "c3SpmxO-x0Aj"
      }
    },
    {
      "cell_type": "code",
      "source": [
        "# One or more lines of code contain errors.\n",
        "# Fix the errors so that the code runs.\n",
        "\n",
        "# Select the location column in credit_records\n",
        "location = credit_records[\"location\"]\n",
        "\n",
        "# Select the item column in credit_records\n",
        "items = credit_records.item\n",
        "\n",
        "# Display results\n",
        "print(location)"
      ],
      "metadata": {
        "id": "r8nSb_Lzx3nr"
      },
      "execution_count": null,
      "outputs": []
    },
    {
      "cell_type": "markdown",
      "source": [
        "More column selection mistakes\n",
        "Another junior detective is examining a DataFrame of Missing Puppy Reports. He's made some mistakes that cause the code to fail.\n",
        "\n",
        "The pandas module has been loaded under the alias pd, and the DataFrame is called mpr."
      ],
      "metadata": {
        "id": "ZQpY1MJcx5es"
      }
    },
    {
      "cell_type": "code",
      "source": [
        "# Use info() to inspect mpr\n",
        "print(mpr.info())"
      ],
      "metadata": {
        "id": "znF4xzHzx8z4"
      },
      "execution_count": null,
      "outputs": []
    },
    {
      "cell_type": "markdown",
      "source": [
        "Logical testing\n",
        "Let's practice writing logical statements and displaying the output.\n",
        "\n",
        "Recall that we use the following operators:\n",
        "\n",
        "== tests that two values are equal.\n",
        "!= tests that two values are not equal.\n",
        "> and < test that greater than or less than, respectively.\n",
        ">= and <= test greater than or equal to or less than or equal to, respectively."
      ],
      "metadata": {
        "id": "8edDGFVgx_Py"
      }
    },
    {
      "cell_type": "code",
      "source": [
        "# Is height_inches greater than 70 inches?\n",
        "print(height_inches == 70)"
      ],
      "metadata": {
        "id": "pXmXxnaEyKQQ"
      },
      "execution_count": null,
      "outputs": []
    },
    {
      "cell_type": "markdown",
      "source": [
        "Selecting missing puppies\n",
        "Let's return to our DataFrame of missing puppies, which is loaded as mpr. Let's select a few different rows to learn more about the other missing dogs.\n",
        "\n",
        "Instructions\n",
        "100 XP\n",
        "Select the dogs where Age is greater than 2.\n",
        "Select the dogs whose Status is equal to Still Missing.\n",
        "Select all dogs whose Dog Breed is not equal to Poodle."
      ],
      "metadata": {
        "id": "CxFE5ojTyL-8"
      }
    },
    {
      "cell_type": "code",
      "source": [
        "# Select the dogs where Age is greater than 2\n",
        "greater_than_2 = mpr[mpr.Age > 2]\n",
        "print(greater_than_2)\n",
        "\n",
        "# Select the dogs whose Status is equal to Still Missing\n",
        "still_missing = mpr[mpr.Status ==  \"Still Missing\"]\n",
        "print(still_missing)\n",
        "\n",
        "# Select all dogs whose Dog Breed is not equal to Poodle\n",
        "not_poodle = mpr[mpr[\"Dog Breed\"] != \"Poodle\"]\n",
        "print(not_poodle)"
      ],
      "metadata": {
        "id": "eROVrjHdyPpl"
      },
      "execution_count": null,
      "outputs": []
    },
    {
      "cell_type": "markdown",
      "source": [
        "Narrowing the list of suspects\n",
        "In Chapter 1, we found a list of people whose cars matched the description of the one that kidnapped Bayes:\n",
        "\n",
        "Fred Frequentist\n",
        "Ronald Aylmer Fisher\n",
        "Gertrude Cox\n",
        "Kirstine Smith\n",
        "We'd like to narrow this list down, so we obtained credit card records for each suspect. We'd like to know if any of them recently purchased dog treats to use in the kidnapping. If they did, they would have visited 'Pet Paradise'.\n",
        "\n",
        "The credit records have been loaded into a DataFrame called credit_records."
      ],
      "metadata": {
        "id": "2p7H_g4pySNh"
      }
    },
    {
      "cell_type": "code",
      "source": [
        "# Select purchases from 'Pet Paradise'\n",
        "purchase = credit_records[credit_records.location == 'Pet Paradise']\n",
        "\n",
        "# Display\n",
        "print(purchase)"
      ],
      "metadata": {
        "id": "9olQASeCyWSo"
      },
      "execution_count": null,
      "outputs": []
    },
    {
      "cell_type": "markdown",
      "source": [
        "Working hard\n",
        "Several police officers have been working hard to help us solve the mystery of Bayes, the kidnapped Golden Retriever. Their commanding officer wants to know exactly how hard each officer has been working on this case. Officer Deshaun has created DataFrames called deshaun to track the amount of time he spent working on this case. The DataFrame contains two columns:\n",
        "\n",
        "day_of_week: a string representing the day of the week\n",
        "hours_worked: the number of hours that a particular officer worked on the Bayes case'"
      ],
      "metadata": {
        "id": "jeybnw45yYJ3"
      }
    },
    {
      "cell_type": "code",
      "source": [
        "# From matplotlib, import pyplot under the alias plt\n",
        "from matplotlib import pyplot as plt"
      ],
      "metadata": {
        "id": "j-0b5ByDyuaJ"
      },
      "execution_count": null,
      "outputs": []
    },
    {
      "cell_type": "markdown",
      "source": [
        "Or hardly working?\n",
        "Two other officers have been working with Deshaun to help find Bayes. Their names are Officer Mengfei and Officer Aditya. Deshaun used their time cards to create two more DataFrames: mengfei and aditya. In this exercise, we'll plot all three lines together to see who was working hard each day.\n",
        "\n",
        "We've already loaded matplotlib under the alias plt.\n",
        "\n",
        "Instructions 1/2\n",
        "50 XP\n",
        "Plot Officer Aditya's time worked with day_of_week on the x-axis and hours_worked on the y-axis.\n",
        "Plot Officer Mengfei's time worked with day_of_week on the x-axis and hours_worked on the y-axis."
      ],
      "metadata": {
        "id": "sP_sWAwMy1Fx"
      }
    },
    {
      "cell_type": "code",
      "source": [
        "# Plot Officer Deshaun's hours_worked vs. day_of_week\n",
        "plt.plot(deshaun.day_of_week, deshaun.hours_worked)\n",
        "\n",
        "# Plot Officer Aditya's hours_worked vs. day_of_week\n",
        "plt.plot(aditya.day_of_week, aditya.hours_worked)\n",
        "\n",
        "# Plot Officer Mengfei's hours_worked vs. day_of_week\n",
        "plt.plot(mengfei.day_of_week, mengfei.hours_worked)\n",
        "\n",
        "# Display all three line plots\n",
        "plt.show()"
      ],
      "metadata": {
        "id": "VrQwMy33y5tI"
      },
      "execution_count": null,
      "outputs": []
    },
    {
      "cell_type": "markdown",
      "source": [
        "Adding a legend\n",
        "Officers Deshaun, Mengfei, and Aditya have all been working with you to solve the kidnapping of Bayes. Their supervisor wants to know how much time each officer has spent working on the case.\n",
        "\n",
        "Deshaun created a plot of data from the DataFrames deshaun, mengfei, and aditya in the previous exercise. Now he wants to add a legend to distinguish the three lines.\n",
        "\n",
        "Instructions 1/4\n",
        "25 XP\n",
        "Using the keyword label, label Deshaun's plot as \"Deshaun\"."
      ],
      "metadata": {
        "id": "x1fb5Y_xy-Ng"
      }
    },
    {
      "cell_type": "code",
      "source": [
        "# Add a label to Deshaun's plot\n",
        "plt.plot(deshaun.day_of_week, deshaun.hours_worked, label = \"Deshaun\")\n",
        "\n",
        "# Officer Aditya\n",
        "plt.plot(aditya.day_of_week, aditya.hours_worked)\n",
        "\n",
        "# Officer Mengfei\n",
        "plt.plot(mengfei.day_of_week, mengfei.hours_worked)\n",
        "\n",
        "# Display plot\n",
        "plt.show()"
      ],
      "metadata": {
        "id": "NPY3V9F1zIOt"
      },
      "execution_count": null,
      "outputs": []
    },
    {
      "cell_type": "markdown",
      "source": [
        "Adding labels\n",
        "If we give a chart with no labels to Officer Deshaun's supervisor, she won't know what the lines represent.\n",
        "\n",
        "We need to add labels to Officer Deshaun's plot of hours worked.\n",
        "\n",
        "Instructions\n",
        "100 XP\n",
        "Add a descriptive title to the chart.\n",
        "Add a label for the y-axis."
      ],
      "metadata": {
        "id": "hgcT9EuczKpj"
      }
    },
    {
      "cell_type": "code",
      "source": [
        "# Lines\n",
        "plt.plot(deshaun.day_of_week, deshaun.hours_worked, label='Deshaun')\n",
        "plt.plot(aditya.day_of_week, aditya.hours_worked, label='Aditya')\n",
        "plt.plot(mengfei.day_of_week, mengfei.hours_worked, label='Mengfei')\n",
        "\n",
        "# Add a title\n",
        "plt.title(\"Hours worked\")\n",
        "\n",
        "# Add y-axis label\n",
        "plt.ylabel(\"Working Hours\")\n",
        "\n",
        "# Legend\n",
        "plt.legend()\n",
        "# Display plot\n",
        "plt.show()"
      ],
      "metadata": {
        "id": "SQHmaGyizsZ1"
      },
      "execution_count": null,
      "outputs": []
    },
    {
      "cell_type": "markdown",
      "source": [
        "Adding floating text\n",
        "Officer Deshaun is examining the number of hours that he worked over the past six months. The number for June is low because he only had data for the first week. Help Deshaun add an annotation to the graph to explain this.\n",
        "\n",
        "Instructions\n",
        "100 XP\n",
        "Place the annotation \"Missing June data\" at the point (2.5, 80)."
      ],
      "metadata": {
        "id": "s4akmhBEzuRy"
      }
    },
    {
      "cell_type": "markdown",
      "source": [
        "Adding floating text\n",
        "Officer Deshaun is examining the number of hours that he worked over the past six months. The number for June is low because he only had data for the first week. Help Deshaun add an annotation to the graph to explain this.\n",
        "\n",
        "Instructions\n",
        "100 XP\n",
        "Place the annotation \"Missing June data\" at the point (2.5, 80)."
      ],
      "metadata": {
        "id": "2Ge6sBxSzxpd"
      }
    },
    {
      "cell_type": "code",
      "source": [
        "# Create plot\n",
        "plt.plot(six_months.month, six_months.hours_worked)\n",
        "\n",
        "# Add annotation \"Missing June data\" at (2.5, 80)\n",
        "plt.text(2.5, 80, \"Missing June data\")\n",
        "\n",
        "# Display graph\n",
        "plt.show()"
      ],
      "metadata": {
        "id": "lD6ADoO50Uhu"
      },
      "execution_count": null,
      "outputs": []
    },
    {
      "cell_type": "markdown",
      "source": [
        "Tracking crime statistics\n",
        "Sergeant Laura wants to do some background research to help her better understand the cultural context for Bayes' kidnapping. She has plotted Burglary rates in three U.S. cities using data from the Uniform Crime Reporting Statistics.\n",
        "\n",
        "She wants to present this data to her officers, and she wants the image to be as beautiful as possible to effectively tell her data story.\n",
        "\n",
        "Recall:\n",
        "\n",
        "You can change linestyle to dotted (':'), dashed('--'), or no line ('').\n",
        "You can change the marker to circle ('o'), diamond('d'), or square ('s').\n",
        "Instructions\n",
        "100 XP\n",
        "Change the color of Phoenix to \"DarkCyan\".\n",
        "Make the Los Angeles line dotted.\n",
        "Add square markers to Philadelphia."
      ],
      "metadata": {
        "id": "W0S827kb0dHo"
      }
    },
    {
      "cell_type": "code",
      "source": [
        "# Change the color of Phoenix to `\"DarkCyan\"`\n",
        "plt.plot(data[\"Year\"], data[\"Phoenix Police Dept\"], label=\"Phoenix\", color = \"DarkCyan\")\n",
        "\n",
        "# Make the Los Angeles line dotted\n",
        "plt.plot(data[\"Year\"], data[\"Los Angeles Police Dept\"], label=\"Los Angeles\", linestyle = \":\")\n",
        "\n",
        "# Add square markers to Philedelphia\n",
        "plt.plot(data[\"Year\"], data[\"Philadelphia Police Dept\"], label=\"Philadelphia\", marker = 's')\n",
        "\n",
        "# Add a legend\n",
        "plt.legend()\n",
        "\n",
        "# Display the plot\n",
        "plt.show()"
      ],
      "metadata": {
        "id": "hZF2ATT50e_v"
      },
      "execution_count": null,
      "outputs": []
    },
    {
      "cell_type": "markdown",
      "source": [
        "Playing with styles\n",
        "Help Sergeant Laura try out a few different style options. Changing the plotting style is a fast way to change the entire look of your plot without having to update individual colors or line styles. Some popular styles include:\n",
        "\n",
        "'fivethirtyeight' - Based on the color scheme of the popular website\n",
        "'grayscale' - Great for when you don't have a color printer!\n",
        "'seaborn' - Based on another Python visualization library\n",
        "'classic' - The default color scheme for Matplotlib\n",
        "Instructions 1/3\n",
        "35 XP\n",
        "Change the plotting style to \"fivethirtyeight\".\n",
        "Change the plotting style to \"ggplot\".\n",
        "View all styles by typing print(plt.style.available) in the console.\n",
        "Pick one of those styles and see what it looks like."
      ],
      "metadata": {
        "id": "_8u1lUqI0i4s"
      }
    },
    {
      "cell_type": "code",
      "source": [
        "# Change the style to fivethirtyeight\n",
        "plt.style.use(\"fivethirtyeight\")\n",
        "\n",
        "# Plot lines\n",
        "plt.plot(data[\"Year\"], data[\"Phoenix Police Dept\"], label=\"Phoenix\")\n",
        "plt.plot(data[\"Year\"], data[\"Los Angeles Police Dept\"], label=\"Los Angeles\")\n",
        "plt.plot(data[\"Year\"], data[\"Philadelphia Police Dept\"], label=\"Philadelphia\")\n",
        "\n",
        "# Add a legend\n",
        "plt.legend()\n",
        "\n",
        "# Display the plot\n",
        "plt.show()"
      ],
      "metadata": {
        "id": "nZ8pOxZ60oFW"
      },
      "execution_count": null,
      "outputs": []
    },
    {
      "cell_type": "markdown",
      "source": [
        "Identifying Bayes' kidnapper\n",
        "We've narrowed the possible kidnappers down to two suspects:\n",
        "\n",
        "Fred Frequentist (suspect1)\n",
        "Gertrude Cox (suspect2)\n",
        "The kidnapper left a long ransom note containing several unusual phrases. Help DataCamp by using a line plot to compare the frequency of letters in the ransom note to samples from the two main suspects.\n",
        "\n",
        "Three DataFrames have been loaded:\n",
        "\n",
        "ransom contains the letter frequencies for the ransom note.\n",
        "suspect1 contains the letter frequencies for the sample from Fred Frequentist.\n",
        "suspect2 contains the letter frequencies for the sample from Gertrude Cox.\n",
        "Each DataFrame contain two columns letter and frequency.\n",
        "\n",
        "Instructions 1/4\n",
        "25 XP\n",
        "Plot the letter frequencies from the ransom note. The x-values should be ransom.letter. The y-values should be ransom.frequency. The label should be the string 'Ransom'. The line should be dotted and gray."
      ],
      "metadata": {
        "id": "lyMAnH-40rIR"
      }
    },
    {
      "cell_type": "code",
      "source": [
        "# x should be ransom.letter and y should be ransom.frequency\n",
        "plt.plot(ransom.letter, ransom.frequency,\n",
        "         # Label should be \"Ransom\"\n",
        "         label=\"Ransom\",\n",
        "         # Plot the ransom letter as a dotted gray line\n",
        "         linestyle=':', color='gray')\n",
        "\n",
        "# Display the plot\n",
        "plt.show()"
      ],
      "metadata": {
        "id": "UDkEcjKp0vlZ"
      },
      "execution_count": null,
      "outputs": []
    },
    {
      "cell_type": "markdown",
      "source": [
        "Charting cellphone data\n",
        "We know that Freddy Frequentist is the one who kidnapped Bayes the Golden Retriever. Now we need to learn where he is hiding.\n",
        "\n",
        "Our friends at the police station have acquired cell phone data, which gives some of Freddie's locations over the past three weeks. It's stored in the DataFrame cellphone. The x-coordinates are in the column 'x' and the y-coordinates are in the column 'y'.\n",
        "\n",
        "The matplotlib module has been imported under the alias plt.\n",
        "\n",
        "Instructions\n",
        "100 XP\n",
        "Display the first five rows of the DataFrame and determine which columns to plot.\n",
        "Create a scatter plot of the data in cellphone."
      ],
      "metadata": {
        "id": "-nvK2_Yy0yac"
      }
    },
    {
      "cell_type": "code",
      "source": [
        "# Explore the data\n",
        "print(cellphone.head())\n",
        "\n",
        "# Create a scatter plot of the data from the DataFrame cellphone\n",
        "plt.scatter(cellphone.x, cellphone.y)\n",
        "\n",
        "# Add labels\n",
        "plt.ylabel('Latitude')\n",
        "plt.xlabel('Longitude')\n",
        "\n",
        "# Display the plot\n",
        "plt.show()"
      ],
      "metadata": {
        "id": "DLGxBRnF1WLx"
      },
      "execution_count": null,
      "outputs": []
    },
    {
      "cell_type": "markdown",
      "source": [
        "Build a simple bar chart\n",
        "Officer Deshaun wants to plot the average number of hours worked per week for him and his coworkers. He has stored the hours worked in a DataFrame called hours, which has columns officer and avg_hours_worked. Recall that the function plt.bar() takes two arguments: the labels for each bar, and the height of each bar. Both of these can be found in our DataFrame.\n",
        "\n",
        "Instructions 1/3\n",
        "35 XP\n",
        "Display the DataFrame hours using a print command."
      ],
      "metadata": {
        "id": "bJRFTmMs1gxj"
      }
    },
    {
      "cell_type": "code",
      "source": [
        "# Display the DataFrame hours using print\n",
        "print(hours)"
      ],
      "metadata": {
        "id": "xdS0h7_u1u3T"
      },
      "execution_count": null,
      "outputs": []
    },
    {
      "cell_type": "markdown",
      "source": [
        "Where did the time go?\n",
        "Officer Deshaun wants to compare the hours spent on field work and desk work between him and his colleagues. In this DataFrame, he has split out the average hours worked per week into desk_work and field_work.\n",
        "\n",
        "You can use the same DataFrame containing the hours worked from the previous exercise (hours).\n",
        "\n",
        "Instructions 1/2\n",
        "50 XP\n",
        "Create a bar plot of the time each officer spends on desk_work.\n",
        "Label that bar plot \"Desk Work\"."
      ],
      "metadata": {
        "id": "KiK6x0jK1zSc"
      }
    },
    {
      "cell_type": "code",
      "source": [
        "# Plot the number of hours spent on desk work\n",
        "plt.bar(hours.officer, hours.desk_work, label=\"Desk Work\")\n",
        "\n",
        "# Display the plot\n",
        "plt.show()"
      ],
      "metadata": {
        "id": "WkRG3PVC13VF"
      },
      "execution_count": null,
      "outputs": []
    },
    {
      "cell_type": "markdown",
      "source": [
        "Modifying histograms\n",
        "Let's explore how changes to keyword parameters in a histogram can change the output. Recall that:\n",
        "\n",
        "range sets the minimum and maximum datapoints that we will include in our histogram.\n",
        "bins sets the number of points in our histogram.\n",
        "We'll be exploring the weights of various puppies from the DataFrame puppies. matplotlib has been loaded under the alias plt.\n",
        "\n",
        "Instructions 1/3\n",
        "35 XP\n",
        "Create a histogram of the column weight from the DataFrame puppies.\n",
        "Change the number of bins to 50.\n",
        "Change the range to start at 5 and end at 35."
      ],
      "metadata": {
        "id": "TN7Malg316UN"
      }
    },
    {
      "cell_type": "code",
      "source": [
        "# Create a histogram of the column weight from the DataFrame puppies\n",
        "plt.hist(puppies.weight)\n",
        "\n",
        "# Add labels\n",
        "plt.xlabel('Puppy Weight (lbs)')\n",
        "plt.ylabel('Number of Puppies')\n",
        "\n",
        "# Display\n",
        "plt.show()"
      ],
      "metadata": {
        "id": "h4310VlC2JBV"
      },
      "execution_count": null,
      "outputs": []
    },
    {
      "cell_type": "markdown",
      "source": [
        "Modifying histograms\n",
        "Let's explore how changes to keyword parameters in a histogram can change the output. Recall that:\n",
        "\n",
        "range sets the minimum and maximum datapoints that we will include in our histogram.\n",
        "bins sets the number of points in our histogram.\n",
        "We'll be exploring the weights of various puppies from the DataFrame puppies. matplotlib has been loaded under the alias plt.\n",
        "\n",
        "Instructions 1/3\n",
        "35 XP\n",
        "Create a histogram of the column weight from the DataFrame puppies.\n",
        "Change the number of bins to 50.\n",
        "Change the range to start at 5 and end at 35."
      ],
      "metadata": {
        "id": "hvzo1lEr2LVU"
      }
    },
    {
      "cell_type": "code",
      "source": [
        "# Create a histogram of the column weight from the DataFrame puppies\n",
        "plt.hist(puppies.weight)\n",
        "\n",
        "# Add labels\n",
        "plt.xlabel('Puppy Weight (lbs)')\n",
        "plt.ylabel('Number of Puppies')\n",
        "\n",
        "# Display\n",
        "plt.show()"
      ],
      "metadata": {
        "id": "2j-IF8ER2YlF"
      },
      "execution_count": null,
      "outputs": []
    },
    {
      "cell_type": "markdown",
      "source": [
        "Heroes with histograms\n",
        "We've identified that the kidnapper is Fred Frequentist. Now we need to know where Fred is hiding Bayes.\n",
        "\n",
        "A shoe print at the crime scene contains a specific type of gravel. Based on the distribution of gravel radii, we can determine where the kidnapper recently visited. It might be:\n",
        "\n",
        "blue-meadows-park\n",
        "shady-groves-campsite\n",
        "happy-mountain-trailhead\n",
        "The radii of individual gravel pieces has been loaded into the DataFrame gravel, and matplotlib has been loaded under the alias plt.\n",
        "\n",
        "Instructions 1/4\n",
        "25 XP\n",
        "Instructions 1/4\n",
        "25 XP\n",
        "Create a histogram of gravel.radius."
      ],
      "metadata": {
        "id": "NAxYsRfz2oOI"
      }
    },
    {
      "cell_type": "code",
      "source": [
        "# Create a histogram of gravel.radius\n",
        "plt.hist(gravel.radius)\n",
        "\n",
        "# Display histogram\n",
        "plt.show()"
      ],
      "metadata": {
        "id": "sdhGngiM2s1K"
      },
      "execution_count": null,
      "outputs": []
    }
  ]
}